{
 "cells": [
  {
   "cell_type": "markdown",
   "id": "18d28a38",
   "metadata": {},
   "source": [
    "# Humans by group\n",
    "Author: Martin Urbanec <martin.urbanec@wikimedia.cz>\n",
    "\n",
    "This notebook is designed to estimate the number of humans who are in a particular user group. It can only run in the internal analytics cluster, as it requires access to unredacted `user` table, as that is where system-ness of an account can be easily determined.\n",
    "\n",
    "The \"is human\" estimation is done by:\n",
    "\n",
    "* ignoring known system accounts\n",
    "* ignoring bot accounts\n",
    "\n",
    "This is based on [a report made in April 2021](https://people.wikimedia.org/~urbanecm/growth-team/sysops-per-wiki-20210429.html) for the Growth team."
   ]
  },
  {
   "cell_type": "code",
   "execution_count": 1,
   "id": "db532396",
   "metadata": {},
   "outputs": [],
   "source": [
    "from wmfdata import mariadb, utils\n",
    "import pandas as pd\n",
    "\n",
    "pd.set_option('display.max_rows', None)"
   ]
  },
  {
   "cell_type": "code",
   "execution_count": 2,
   "id": "7f9e0588",
   "metadata": {},
   "outputs": [],
   "source": [
    "dfs = []\n",
    "\n",
    "private = utils.get_dblist('private')\n",
    "closed = utils.get_dblist('closed')\n",
    "for wiki in utils.get_dblist('all'):\n",
    "    if wiki in private or wiki in closed:\n",
    "        continue\n",
    "    \n",
    "    if wiki == 'labtestwiki':\n",
    "        continue\n",
    "    \n",
    "    try:\n",
    "        dfs.append(mariadb.run('''\n",
    "        SELECT\n",
    "            DATABASE() AS wiki,\n",
    "            ug_expiry IS NULL AS permanent,\n",
    "            ug_group,\n",
    "            COUNT(*) AS users\n",
    "        FROM user_groups\n",
    "        -- we need the user table, to be able to exclude system accounts\n",
    "        JOIN user ON user_id=ug_user\n",
    "        WHERE\n",
    "            -- Ignore system accounts\n",
    "            user_token NOT LIKE \"%INVALID%\" AND\n",
    "\n",
    "            -- Ignore bots\n",
    "            ug_user NOT IN (\n",
    "                SELECT ug_user FROM user_groups WHERE ug_group=\"bot\"\n",
    "            )\n",
    "        GROUP BY\n",
    "            ug_expiry IS NULL,\n",
    "            ug_group\n",
    "        ''', wiki))\n",
    "    except ValueError:\n",
    "        pass\n",
    "\n",
    "df = pd.concat(dfs).reset_index(drop=True).fillna(0)"
   ]
  },
  {
   "cell_type": "code",
   "execution_count": 3,
   "id": "daaed523",
   "metadata": {},
   "outputs": [],
   "source": [
    "dfPivot = df.loc[df.permanent==1][['wiki', 'ug_group', 'users']].pivot_table(index='wiki', columns=['ug_group'], values='users', fill_value=0)\n",
    "dfPivot.to_json('/home/urbanecm/Documents/steward/2021-wikimedia-humans-per-group/data/permanent-users-per-group.json')"
   ]
  },
  {
   "cell_type": "code",
   "execution_count": 4,
   "id": "e185c267",
   "metadata": {},
   "outputs": [],
   "source": [
    "dfPivot = df.loc[df.permanent==0][['wiki', 'ug_group', 'users']].pivot_table(index='wiki', columns=['ug_group'], values='users', fill_value=0)\n",
    "dfPivot.to_json('/home/urbanecm/Documents/steward/2021-wikimedia-humans-per-group/data/temporary-users-per-group.json')"
   ]
  },
  {
   "cell_type": "code",
   "execution_count": 5,
   "id": "6b9a25ee",
   "metadata": {},
   "outputs": [],
   "source": [
    "dfPivot = df[['wiki', 'ug_group', 'users']].groupby(['wiki', 'ug_group']).sum().pivot_table(index='wiki', columns=['ug_group'], values='users', fill_value=0)\n",
    "dfPivot.to_json('/home/urbanecm/Documents/steward/2021-wikimedia-humans-per-group/data/total-users-per-group.json')"
   ]
  }
 ],
 "metadata": {
  "kernelspec": {
   "display_name": "Python 3",
   "language": "python",
   "name": "python3"
  },
  "language_info": {
   "codemirror_mode": {
    "name": "ipython",
    "version": 3
   },
   "file_extension": ".py",
   "mimetype": "text/x-python",
   "name": "python",
   "nbconvert_exporter": "python",
   "pygments_lexer": "ipython3",
   "version": "3.7.6"
  }
 },
 "nbformat": 4,
 "nbformat_minor": 5
}
